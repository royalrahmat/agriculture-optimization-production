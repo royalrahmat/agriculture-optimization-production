{
 "cells": [
  {
   "cell_type": "code",
   "execution_count": 4,
   "id": "57305d13",
   "metadata": {},
   "outputs": [],
   "source": [
    "# for manipulation \n",
    "import numpy as np\n",
    "import pandas as pd\n",
    "\n",
    "# for data visualization\n",
    "import matplotlib.pyplot as plt\n",
    "import seaborn as sns\n",
    "\n",
    "# for interactivity \n",
    "from ipywidgets import interact\n"
   ]
  },
  {
   "cell_type": "code",
   "execution_count": 5,
   "id": "963eacd6",
   "metadata": {},
   "outputs": [],
   "source": [
    "# lets read the data set \n",
    "data = pd.read_csv('data.csv')"
   ]
  },
  {
   "cell_type": "code",
   "execution_count": 6,
   "id": "173969e6",
   "metadata": {},
   "outputs": [
    {
     "name": "stdout",
     "output_type": "stream",
     "text": [
      "shape of the Dataset : (2200, 8)\n"
     ]
    }
   ],
   "source": [
    "#lets check the shape of data \n",
    "print (\"shape of the Dataset :\" ,data.shape)"
   ]
  },
  {
   "cell_type": "code",
   "execution_count": 7,
   "id": "00a25afe",
   "metadata": {},
   "outputs": [
    {
     "data": {
      "text/html": [
       "<div>\n",
       "<style scoped>\n",
       "    .dataframe tbody tr th:only-of-type {\n",
       "        vertical-align: middle;\n",
       "    }\n",
       "\n",
       "    .dataframe tbody tr th {\n",
       "        vertical-align: top;\n",
       "    }\n",
       "\n",
       "    .dataframe thead th {\n",
       "        text-align: right;\n",
       "    }\n",
       "</style>\n",
       "<table border=\"1\" class=\"dataframe\">\n",
       "  <thead>\n",
       "    <tr style=\"text-align: right;\">\n",
       "      <th></th>\n",
       "      <th>N</th>\n",
       "      <th>P</th>\n",
       "      <th>K</th>\n",
       "      <th>temperature</th>\n",
       "      <th>humidity</th>\n",
       "      <th>ph</th>\n",
       "      <th>rainfall</th>\n",
       "      <th>label</th>\n",
       "    </tr>\n",
       "  </thead>\n",
       "  <tbody>\n",
       "    <tr>\n",
       "      <th>0</th>\n",
       "      <td>90</td>\n",
       "      <td>42</td>\n",
       "      <td>43</td>\n",
       "      <td>20.879744</td>\n",
       "      <td>82.002744</td>\n",
       "      <td>6.502985</td>\n",
       "      <td>202.935536</td>\n",
       "      <td>rice</td>\n",
       "    </tr>\n",
       "    <tr>\n",
       "      <th>1</th>\n",
       "      <td>85</td>\n",
       "      <td>58</td>\n",
       "      <td>41</td>\n",
       "      <td>21.770462</td>\n",
       "      <td>80.319644</td>\n",
       "      <td>7.038096</td>\n",
       "      <td>226.655537</td>\n",
       "      <td>rice</td>\n",
       "    </tr>\n",
       "    <tr>\n",
       "      <th>2</th>\n",
       "      <td>60</td>\n",
       "      <td>55</td>\n",
       "      <td>44</td>\n",
       "      <td>23.004459</td>\n",
       "      <td>82.320763</td>\n",
       "      <td>7.840207</td>\n",
       "      <td>263.964248</td>\n",
       "      <td>rice</td>\n",
       "    </tr>\n",
       "    <tr>\n",
       "      <th>3</th>\n",
       "      <td>74</td>\n",
       "      <td>35</td>\n",
       "      <td>40</td>\n",
       "      <td>26.491096</td>\n",
       "      <td>80.158363</td>\n",
       "      <td>6.980401</td>\n",
       "      <td>242.864034</td>\n",
       "      <td>rice</td>\n",
       "    </tr>\n",
       "    <tr>\n",
       "      <th>4</th>\n",
       "      <td>78</td>\n",
       "      <td>42</td>\n",
       "      <td>42</td>\n",
       "      <td>20.130175</td>\n",
       "      <td>81.604873</td>\n",
       "      <td>7.628473</td>\n",
       "      <td>262.717340</td>\n",
       "      <td>rice</td>\n",
       "    </tr>\n",
       "  </tbody>\n",
       "</table>\n",
       "</div>"
      ],
      "text/plain": [
       "    N   P   K  temperature   humidity        ph    rainfall label\n",
       "0  90  42  43    20.879744  82.002744  6.502985  202.935536  rice\n",
       "1  85  58  41    21.770462  80.319644  7.038096  226.655537  rice\n",
       "2  60  55  44    23.004459  82.320763  7.840207  263.964248  rice\n",
       "3  74  35  40    26.491096  80.158363  6.980401  242.864034  rice\n",
       "4  78  42  42    20.130175  81.604873  7.628473  262.717340  rice"
      ]
     },
     "execution_count": 7,
     "metadata": {},
     "output_type": "execute_result"
    }
   ],
   "source": [
    "#lets check the head of data set\n",
    "data.head()"
   ]
  },
  {
   "cell_type": "code",
   "execution_count": 8,
   "id": "2e94260e",
   "metadata": {},
   "outputs": [
    {
     "data": {
      "text/plain": [
       "N              0\n",
       "P              0\n",
       "K              0\n",
       "temperature    0\n",
       "humidity       0\n",
       "ph             0\n",
       "rainfall       0\n",
       "label          0\n",
       "dtype: int64"
      ]
     },
     "execution_count": 8,
     "metadata": {},
     "output_type": "execute_result"
    }
   ],
   "source": [
    "#lets check if there is null value in my data set\n",
    "data.isnull().sum()"
   ]
  },
  {
   "cell_type": "code",
   "execution_count": 9,
   "id": "890ef9f4",
   "metadata": {},
   "outputs": [
    {
     "data": {
      "text/plain": [
       "rice           100\n",
       "maize          100\n",
       "jute           100\n",
       "cotton         100\n",
       "coconut        100\n",
       "papaya         100\n",
       "orange         100\n",
       "apple          100\n",
       "muskmelon      100\n",
       "watermelon     100\n",
       "grapes         100\n",
       "mango          100\n",
       "banana         100\n",
       "pomegranate    100\n",
       "lentil         100\n",
       "blackgram      100\n",
       "mungbean       100\n",
       "mothbeans      100\n",
       "pigeonpeas     100\n",
       "kidneybeans    100\n",
       "chickpea       100\n",
       "coffee         100\n",
       "Name: label, dtype: int64"
      ]
     },
     "execution_count": 9,
     "metadata": {},
     "output_type": "execute_result"
    }
   ],
   "source": [
    "#lets check the crops present in the data set\n",
    "data['label'].value_counts()"
   ]
  },
  {
   "cell_type": "code",
   "execution_count": 10,
   "id": "0dfe3609",
   "metadata": {},
   "outputs": [
    {
     "name": "stdout",
     "output_type": "stream",
     "text": [
      "Average ratio of nitrogen in the soil :50.55\n",
      "Average ratio of phosphorus in the soil :53.36\n",
      "Average ratio of potassium in the soil :48.15 \n",
      "Average Temprature in Celcius :25.62\n",
      "Average Relative humidity in % :71.48\n",
      "Average PH value of soil :6.47\n",
      "Average Rainfall in mm :103.46\n"
     ]
    }
   ],
   "source": [
    "# lets check the summary for all the crops \n",
    "print(\"Average ratio of nitrogen in the soil :{0:.2f}\".format(data['N'].mean()))\n",
    "print(\"Average ratio of phosphorus in the soil :{0:.2f}\".format(data['P'].mean()))\n",
    "print(\"Average ratio of potassium in the soil :{0:.2f} \".format(data['K'].mean()))\n",
    "print(\"Average Temprature in Celcius :{0:.2f}\".format(data['temperature'].mean()))\n",
    "print(\"Average Relative humidity in % :{0:.2f}\".format(data['humidity'].mean()))\n",
    "print(\"Average PH value of soil :{0:.2f}\".format(data['ph'].mean()))\n",
    "print(\"Average Rainfall in mm :{0:.2f}\".format(data['rainfall'].mean()))"
   ]
  },
  {
   "cell_type": "code",
   "execution_count": 11,
   "id": "4184c609",
   "metadata": {},
   "outputs": [
    {
     "data": {
      "application/vnd.jupyter.widget-view+json": {
       "model_id": "ea96ef63a374405599d9ac998c56a5d2",
       "version_major": 2,
       "version_minor": 0
      },
      "text/plain": [
       "interactive(children=(Dropdown(description='crops', options=('rice', 'maize', 'jute', 'cotton', 'coconut', 'pa…"
      ]
     },
     "metadata": {},
     "output_type": "display_data"
    }
   ],
   "source": [
    "#lets check the summary statistics for each of the crop.\n",
    "@interact\n",
    "def summary(crops = list(data['label'].value_counts().index)):\n",
    "    x = data[data['label'] == crops]\n",
    "    print(\"..............................................\")\n",
    "    print(\"Statistics for Nitrogen\")\n",
    "    print(\"minimum Nmmmmitrogen required :\" ,x['N'].min())\n",
    "    print(\"Average Nitrogen required :\" ,x['N'].mean())\n",
    "    print(\"maximum Nitrogen required :\" ,x[\"N\"].max())\n",
    "    print(\"...............................................\")\n",
    "    print(\"Statistics for for Phosphorous\")\n",
    "    print(\"minimum Phosphorous required : \",x['P'].min())\n",
    "    print(\"Average Phosphorous required :\" ,x['P'].mean())\n",
    "    print(\"maximum Phosphorous required :\" ,x['P'].max())\n",
    "    print(\"................................................\")\n",
    "    print(\"Statistics for potassium\")\n",
    "    print(\"minimum potassium required :\" ,x['K'].min())\n",
    "    print(\"Average potassium required :\" ,x['K'].mean())\n",
    "    print(\"maximum potassium required :\" ,x['K'].max())\n",
    "    print(\"..................................................\")\n",
    "    print(\"Statistics for Temprature \")\n",
    "    print(\"minimum Temprature required :{0:.2f}\".format(x['temperature'].min()))\n",
    "    print(\"Average Temprature required :{0:.2f}\".format(x['temperature'].mean()))\n",
    "    print(\"maximum Temprature required :{0:.2f}\".format(x['temperature'].max()))\n",
    "    print(\"......................................................................\")\n",
    "    print(\"Statistics for humidity \")\n",
    "    print(\"minim humidity required :{0:.2f}\".format(x['humidity'].min()))\n",
    "    print(\"Average humidity required :{0:.2f}\".format(x['humidity'].mean()))\n",
    "    print(\"maximum humidity required : {0:.2f}\".format(x['humidity'].max()))\n",
    "    print(\"........................................................................\")\n",
    "    print(\"Statistics for PH\")\n",
    "    print(\"minimum PH requitred : {0:.2f}\".format(x['ph'].min()))\n",
    "    print(\"Average PH requied :{0:.2f}\".format(x['ph'].mean()))\n",
    "    print(\"maximum PH required :{0:.2f}\".format(x['ph'].max()))\n",
    "    print(\"..........................................................................\")\n",
    "    print(\"Statistics for Rainfall\")\n",
    "    print(\"minimum Rainfall equired : {0:.2f}\".format(x['rainfall'].min()))\n",
    "    print(\"Average Rainfall required :{0:.2f}\".format(x['rainfall'].mean()))\n",
    "    print(\"maximum Rainfall required :{0:.2f}\".format(x['rainfall'].max()))\n",
    "    "
   ]
  },
  {
   "cell_type": "code",
   "execution_count": 12,
   "id": "4f2f6feb",
   "metadata": {},
   "outputs": [
    {
     "data": {
      "application/vnd.jupyter.widget-view+json": {
       "model_id": "606652f502344b16b0a03baf56adb2f8",
       "version_major": 2,
       "version_minor": 0
      },
      "text/plain": [
       "interactive(children=(Dropdown(description='conditions', options=('N', 'P', 'K', 'temperature', 'ph', 'humidit…"
      ]
     },
     "metadata": {},
     "output_type": "display_data"
    }
   ],
   "source": [
    "#lets compare the average requirements for each crops for average condition.\n",
    "@interact\n",
    "def compare(conditions = ['N','P','K','temperature','ph','humidity','rainfall']):\n",
    "    print(\"Average value for \", conditions , \"is {0:.2f}\".format(data[conditions].mean()))\n",
    "    print(\"...............................................................................\")\n",
    "    print(\"Rice : {0:.2f}\".format(data[(data['label'] == 'rice')][conditions].mean()))\n",
    "    print(\"Black Grams : {0:.2f}\".format(data[(data['label'] == 'blackgram')][conditions].mean()))\n",
    "    print(\"Banana : {0:.2f}\".format(data[(data['label'] == 'banana')][conditions].mean()))\n",
    "    print(\"Jute : {0:.2f}\".format(data[(data['label'] == 'jute')][conditions].mean()))\n",
    "    print(\"Coconut : {0:.2f}\".format(data[(data['label'] == 'coconut')][conditions].mean()))\n",
    "    print(\"Apple : {0:.2f}\".format(data[(data['label'] == 'apple')][conditions].mean()))\n",
    "    print(\"Papaya : {0:.2f}\".format(data[(data['label'] == 'papaya')][conditions].mean()))\n",
    "    print(\"Muskmelon : {0:.2f}\".format(data[(data['label'] == 'muskmelon')][conditions].mean()))\n",
    "    print(\"Grapes : {0:.2f}\".format(data[(data['label'] == 'grapes')][conditions].mean()))\n",
    "    print(\"Watermelon : {0:.2f}\".format(data[(data['label'] == 'watermelon')][conditions].mean()))\n",
    "    print(\"Kidney Beans : {0:.2f}\".format(data[(data['label'] == 'kidneybeans')][conditions].mean()))\n",
    "    print(\"Mung Beans : {0:.2f}\".format(data[(data['label'] == 'mungbeans')][conditions].mean()))\n",
    "    print(\"Orange : {0:.2f}\".format(data[(data['label'] == 'orange')][conditions].mean()))\n",
    "    print(\"Chick Peas : {0:.2f}\".format(data[(data['label'] == 'chickpea')][conditions].mean()))\n",
    "    print(\"Lentils : {0:.2f}\".format(data[(data['label'] == 'lentil')][conditions].mean()))\n",
    "    print(\"Cotton : {0:.2f}\".format(data[(data['label'] == 'cotton')][conditions].mean()))\n",
    "    print(\"Maize : {0:.2f}\".format(data[(data['label'] == 'maize')][conditions].mean()))\n",
    "    print(\"Moth Beans : {0:.2f}\".format(data[(data['label'] == 'mothbeans')][conditions].mean()))\n",
    "    print(\"Pigeon Peas : {0:.2f}\".format(data[(data['label'] == 'pigeonpeas')][conditions].mean()))\n",
    "    print(\"Mango : {0:.2f}\".format(data[(data['label'] == 'mango')][conditions].mean()))\n",
    "    print(\"Pomegranate : {0:.2f}\".format(data[(data['label'] == 'pomegranate')][conditions].mean()))\n",
    "    print(\"Coffee : {0:.2f}\".format(data[(data['label'] == 'coffee')][conditions].mean()))"
   ]
  },
  {
   "cell_type": "code",
   "execution_count": 13,
   "id": "8598b55f",
   "metadata": {},
   "outputs": [
    {
     "data": {
      "application/vnd.jupyter.widget-view+json": {
       "model_id": "927c87b01a904a0195a77d33322da6bc",
       "version_major": 2,
       "version_minor": 0
      },
      "text/plain": [
       "interactive(children=(Dropdown(description='conditions', options=('N', 'P', 'K', 'temperature', 'ph', 'humidit…"
      ]
     },
     "metadata": {},
     "output_type": "display_data"
    }
   ],
   "source": [
    "#,lets make this funnction expand.\n",
    "@interact\n",
    "def compare(conditions = ['N' ,'P','K','temperature','ph','humidity', 'rainfall']):\n",
    "    print(\"Crops which required greater than average \", conditions, '\\n')\n",
    "    print(data[data[conditions] > data[conditions].mean()][\"label\"].unique())\n",
    "    print(\".......................................................................\")\n",
    "    print(\"Crops which required less than average \", conditions, '\\n')\n",
    "    print(data[data[conditions] <= data[conditions].mean()][\"label\"].unique())\n",
    "    "
   ]
  },
  {
   "cell_type": "code",
   "execution_count": 11,
   "id": "3719d59b",
   "metadata": {},
   "outputs": [
    {
     "name": "stderr",
     "output_type": "stream",
     "text": [
      "c:\\users\\rahmat shah\\appdata\\local\\programs\\python\\python39\\lib\\site-packages\\seaborn\\distributions.py:2557: FutureWarning: `distplot` is a deprecated function and will be removed in a future version. Please adapt your code to use either `displot` (a figure-level function with similar flexibility) or `histplot` (an axes-level function for histograms).\n",
      "  warnings.warn(msg, FutureWarning)\n",
      "c:\\users\\rahmat shah\\appdata\\local\\programs\\python\\python39\\lib\\site-packages\\seaborn\\distributions.py:2557: FutureWarning: `distplot` is a deprecated function and will be removed in a future version. Please adapt your code to use either `displot` (a figure-level function with similar flexibility) or `histplot` (an axes-level function for histograms).\n",
      "  warnings.warn(msg, FutureWarning)\n",
      "c:\\users\\rahmat shah\\appdata\\local\\programs\\python\\python39\\lib\\site-packages\\seaborn\\distributions.py:2557: FutureWarning: `distplot` is a deprecated function and will be removed in a future version. Please adapt your code to use either `displot` (a figure-level function with similar flexibility) or `histplot` (an axes-level function for histograms).\n",
      "  warnings.warn(msg, FutureWarning)\n",
      "c:\\users\\rahmat shah\\appdata\\local\\programs\\python\\python39\\lib\\site-packages\\seaborn\\distributions.py:2557: FutureWarning: `distplot` is a deprecated function and will be removed in a future version. Please adapt your code to use either `displot` (a figure-level function with similar flexibility) or `histplot` (an axes-level function for histograms).\n",
      "  warnings.warn(msg, FutureWarning)\n",
      "c:\\users\\rahmat shah\\appdata\\local\\programs\\python\\python39\\lib\\site-packages\\seaborn\\distributions.py:2557: FutureWarning: `distplot` is a deprecated function and will be removed in a future version. Please adapt your code to use either `displot` (a figure-level function with similar flexibility) or `histplot` (an axes-level function for histograms).\n",
      "  warnings.warn(msg, FutureWarning)\n",
      "c:\\users\\rahmat shah\\appdata\\local\\programs\\python\\python39\\lib\\site-packages\\seaborn\\distributions.py:2557: FutureWarning: `distplot` is a deprecated function and will be removed in a future version. Please adapt your code to use either `displot` (a figure-level function with similar flexibility) or `histplot` (an axes-level function for histograms).\n",
      "  warnings.warn(msg, FutureWarning)\n",
      "c:\\users\\rahmat shah\\appdata\\local\\programs\\python\\python39\\lib\\site-packages\\seaborn\\distributions.py:2557: FutureWarning: `distplot` is a deprecated function and will be removed in a future version. Please adapt your code to use either `displot` (a figure-level function with similar flexibility) or `histplot` (an axes-level function for histograms).\n",
      "  warnings.warn(msg, FutureWarning)\n"
     ]
    },
    {
     "data": {
      "image/png": "[encoded data removed]",
      "text/plain": [
       "<Figure size 432x288 with 7 Axes>"
      ]
     },
     "metadata": {
      "needs_background": "light"
     },
     "output_type": "display_data"
    }
   ],
   "source": [
    "\n",
    "    plt.subplot(2, 4, 1)\n",
    "    sns.distplot(data['N'], color = 'red')\n",
    "    plt.xlabel('ratio of nitrogen' , fontsize = 12)\n",
    "    plt.grid()\n",
    "    \n",
    "    plt.subplot(2, 4, 2)\n",
    "    sns.distplot(data['P'], color = 'blue')\n",
    "    plt.xlabel('ratio of phosporus' , fontsize = 12)\n",
    "    plt.grid()\n",
    "    \n",
    "    plt.subplot(2, 4, 3)\n",
    "    sns.distplot(data['K'], color = 'darkblue')\n",
    "    plt.xlabel('ratio of potassium' , fontsize = 12)\n",
    "    plt.grid()\n",
    "    \n",
    "    plt.subplot(2, 4, 4)\n",
    "    sns.distplot(data['temperature'], color = 'black')\n",
    "    plt.xlabel('Temperature' , fontsize = 12)\n",
    "    plt.grid()\n",
    "    \n",
    "    plt.subplot(2, 4, 5)\n",
    "    sns.distplot(data['rainfall'], color = 'yellow')\n",
    "    plt.xlabel('ratio of rainfall' , fontsize = 12)\n",
    "    plt.grid()\n",
    "    \n",
    "    plt.subplot(2, 4, 6)\n",
    "    sns.distplot(data['humidity'], color = 'green')\n",
    "    plt.xlabel('humidity' , fontsize = 12)\n",
    "    plt.grid()\n",
    "    \n",
    "    plt.subplot(2, 4, 7)\n",
    "    sns.distplot(data['ph'], color = 'purple')\n",
    "    plt.xlabel('ph level' , fontsize = 12)\n",
    "    plt.grid()\n",
    "    \n",
    "    plt.suptitle('Distribution for agricultural conditions' , fontsize = 20)\n",
    "    plt.show()\n"
   ]
  },
  {
   "cell_type": "code",
   "execution_count": 14,
   "id": "ac84c260",
   "metadata": {},
   "outputs": [
    {
     "name": "stdout",
     "output_type": "stream",
     "text": [
      "some intresting pattterns\n",
      "....................................\n",
      "crops which requires very high ratio of nitrogen in soil : ['cotton']\n",
      "crops which requires very high ratio of phosphorous in soil : ['grapes' 'apple']\n",
      "crops which requires very high ratio of potassium in soil : ['grapes' 'apple']\n",
      "crops which requires very high rainfall  : ['rice' 'papaya' 'coconut']\n",
      "crops which requires very low temperature  : ['grapes']\n",
      "crops which requires very high  temperature  : ['grapes' 'papaya']\n",
      "crops which requires very low humidity  : ['chickpea' 'kidneybeans']\n",
      "crops which requires very low ph  : ['mothbeans']\n",
      "crops which requires very high ph  : ['mothbeans']\n"
     ]
    }
   ],
   "source": [
    "#lets find out some intresting facts\n",
    "\n",
    "print(\"some intresting pattterns\")\n",
    "print(\"....................................\")\n",
    "print(\"crops which requires very high ratio of nitrogen in soil :\" , data[data['N'] > 120]['label'].unique())\n",
    "print(\"crops which requires very high ratio of phosphorous in soil :\" , data[data['P'] > 100]['label'].unique())\n",
    "print(\"crops which requires very high ratio of potassium in soil :\" , data[data['K'] > 200]['label'].unique())\n",
    "print(\"crops which requires very high rainfall  :\" , data[data['rainfall'] > 200]['label'].unique())\n",
    "print(\"crops which requires very low temperature  :\" , data[data['temperature'] < 10]['label'].unique())\n",
    "print(\"crops which requires very high  temperature  :\" , data[data['temperature'] > 40]['label'].unique())\n",
    "print(\"crops which requires very low humidity  :\" , data[data['humidity'] < 20]['label'].unique())\n",
    "print(\"crops which requires very low ph  :\" , data[data['ph'] < 4]['label'].unique())\n",
    "print(\"crops which requires very high ph  :\" , data[data['ph'] > 9]['label'].unique())\n",
    "\n"
   ]
  },
  {
   "cell_type": "code",
   "execution_count": 15,
   "id": "097c5b16",
   "metadata": {},
   "outputs": [
    {
     "name": "stdout",
     "output_type": "stream",
     "text": [
      "Summer Crops\n",
      "['pigeonpeas' 'mothbeans' 'blackgram' 'mango' 'grapes' 'orange' 'papaya']\n",
      ".........................................................\n",
      "Winter crops \n",
      "['rice' 'maize' 'pigeonpeas' 'mothbeans' 'mungbean' 'blackgram' 'lentil'\n",
      " 'pomegranate' 'banana' 'mango' 'grapes' 'watermelon' 'muskmelon' 'apple'\n",
      " 'orange' 'papaya' 'coconut' 'cotton' 'jute' 'coffee']\n",
      "............................................................\n",
      "rainy crops\n",
      "['rice' 'papaya' 'coconut']\n"
     ]
    }
   ],
   "source": [
    "#lets understand which crops can only be grown in summer season ,winter season and rainy season.\n",
    "\n",
    "print(\"Summer Crops\")\n",
    "print(data[(data['temperature'] > 30) & (data['humidity'] > 50)]['label'].unique())\n",
    "print(\".........................................................\")\n",
    "print(\"Winter crops \")\n",
    "print(data[(data['temperature'] > 20) & (data['humidity'] > 30)]['label'].unique())\n",
    "print('............................................................')\n",
    "print(\"rainy crops\")\n",
    "print(data[(data['rainfall'] > 200) & (data['humidity'] > 30)]['label'].unique())"
   ]
  },
  {
   "cell_type": "code",
   "execution_count": 16,
   "id": "8a22e451",
   "metadata": {},
   "outputs": [
    {
     "name": "stdout",
     "output_type": "stream",
     "text": [
      "(2200, 7)\n"
     ]
    }
   ],
   "source": [
    "from sklearn.cluster import KMeans\n",
    "# removing the labels column\n",
    "x = data.drop(['label'], axis = 1)\n",
    "#selecting all the values of data \n",
    "x = x.values\n",
    "#checking the shape \n",
    "print(x.shape)"
   ]
  },
  {
   "cell_type": "code",
   "execution_count": 12,
   "id": "bc611c4e",
   "metadata": {},
   "outputs": [
    {
     "data": {
      "image/png": "[encoded data removed]",
      "text/plain": [
       "<Figure size 720x288 with 1 Axes>"
      ]
     },
     "metadata": {
      "needs_background": "light"
     },
     "output_type": "display_data"
    }
   ],
   "source": [
    "#lets the determine the optimum number of cluster within the dataset\n",
    "\n",
    "plt.rcParams['figure.figsize'] = (10,4)\n",
    "\n",
    "wcss = []\n",
    "for i in range(1,11):\n",
    "    km = KMeans(n_clusters = i, init = 'k-means++', max_iter = 300, n_init = 10, random_state = 0)\n",
    "    km.fit(x)\n",
    "    wcss.append(km.inertia_)\n",
    "    \n",
    "#lets plot the result\n",
    "plt.plot(range(1,11) ,wcss)\n",
    "plt.title(\"The Elbow method \" , fontsize = 20)\n",
    "plt.xlabel(\"no. of clusters\")\n",
    "plt.ylabel('wcss')\n",
    "plt.show()"
   ]
  },
  {
   "cell_type": "code",
   "execution_count": 17,
   "id": "caee02d3",
   "metadata": {},
   "outputs": [
    {
     "name": "stdout",
     "output_type": "stream",
     "text": [
      "lets the chgeck the Result applying the k Means clustering analysis \n",
      "\n",
      "crops in first cluster : ['grapes' 'apple']\n",
      ".......................................................................\n",
      "crops in second cluster : ['maize' 'banana' 'watermelon' 'muskmelon' 'papaya' 'cotton' 'coffee']\n",
      "........................................................................\n",
      "crops  in third cluster : ['rice' 'pigeonpeas' 'papaya' 'coconut' 'jute' 'coffee']\n",
      "...........................................................................\n",
      "crops in four  cluster : ['maize' 'chickpea' 'kidneybeans' 'pigeonpeas' 'mothbeans' 'mungbean'\n",
      " 'blackgram' 'lentil' 'pomegranate' 'mango' 'orange' 'papaya' 'coconut']\n"
     ]
    }
   ],
   "source": [
    "#lets implement  the k Means algorithm to perform clustering analysis \n",
    "km = KMeans(n_clusters = 4, init = 'k-means++', max_iter = 300, n_init = 10, random_state = 0)\n",
    "y_means = km.fit_predict(x)\n",
    "\n",
    "#lets find out the result \n",
    "a = data['label']\n",
    "y_means = pd.DataFrame(y_means)\n",
    "z = pd.concat([y_means , a], axis = 1)\n",
    "z = z.rename(columns = {0: 'cluster'})\n",
    "\n",
    "#lets check the cluster for each crops\n",
    "print(\"lets the chgeck the Result applying the k Means clustering analysis \\n\")\n",
    "print(\"crops in first cluster :\" , z[z['cluster'] == 0]['label'].unique())\n",
    "print(\".......................................................................\")\n",
    "print(\"crops in second cluster :\" , z[z['cluster'] == 1]['label'].unique())\n",
    "print(\"........................................................................\")\n",
    "print(\"crops  in third cluster :\" , z[z['cluster'] == 2]['label'].unique())\n",
    "print(\"...........................................................................\")\n",
    "print(\"crops in four  cluster :\" , z[z['cluster'] == 3]['label'].unique())"
   ]
  },
  {
   "cell_type": "code",
   "execution_count": 18,
   "id": "c8cf0965",
   "metadata": {},
   "outputs": [
    {
     "name": "stdout",
     "output_type": "stream",
     "text": [
      "shape of x: (2200, 7)\n",
      "shape of y: (2200,)\n"
     ]
    }
   ],
   "source": [
    "#lets split the dataset for predictive model \n",
    "\n",
    "y = data['label']\n",
    "x = data.drop(['label'], axis = 1)\n",
    "\n",
    "print(\"shape of x:\" , x.shape )\n",
    "print(\"shape of y:\" ,y.shape)"
   ]
  },
  {
   "cell_type": "code",
   "execution_count": 19,
   "id": "1ea09f66",
   "metadata": {},
   "outputs": [
    {
     "name": "stdout",
     "output_type": "stream",
     "text": [
      "shape of x train : (1760, 7)\n",
      "shape of x test : (440, 7)\n",
      "shape of y train: (1760,)\n",
      "shape of y test: (440,)\n"
     ]
    }
   ],
   "source": [
    "#lets  create training and testing set for validation for result \n",
    "from sklearn.model_selection import train_test_split\n",
    "\n",
    "x_train, x_test, y_train, y_test, = train_test_split(x,y, test_size =0.2, random_state =0)\n",
    "print(\"shape of x train :\", x_train.shape)\n",
    "print(\"shape of x test :\",x_test.shape)\n",
    "print('shape of y train:', y_train.shape)\n",
    "print(\"shape of y test:\", y_test.shape)"
   ]
  },
  {
   "cell_type": "code",
   "execution_count": 20,
   "id": "791e51bb",
   "metadata": {},
   "outputs": [
    {
     "name": "stderr",
     "output_type": "stream",
     "text": [
      "c:\\users\\rahmat shah\\appdata\\local\\programs\\python\\python39\\lib\\site-packages\\sklearn\\linear_model\\_logistic.py:763: ConvergenceWarning: lbfgs failed to converge (status=1):\n",
      "STOP: TOTAL NO. of ITERATIONS REACHED LIMIT.\n",
      "\n",
      "Increase the number of iterations (max_iter) or scale the data as shown in:\n",
      "    https://scikit-learn.org/stable/modules/preprocessing.html\n",
      "Please also refer to the documentation for alternative solver options:\n",
      "    https://scikit-learn.org/stable/modules/linear_model.html#logistic-regression\n",
      "  n_iter_i = _check_optimize_result(\n"
     ]
    }
   ],
   "source": [
    "#lets create a predictive model \n",
    "from sklearn.linear_model import LogisticRegression\n",
    "\n",
    "model =LogisticRegression()\n",
    "model.fit(x_train, y_train)\n",
    "y_pred = model.predict(x_test)"
   ]
  },
  {
   "cell_type": "code",
   "execution_count": 23,
   "id": "97e16b11",
   "metadata": {},
   "outputs": [
    {
     "data": {
      "image/png": "[encoded data removed]",
      "text/plain": [
       "<Figure size 720x720 with 2 Axes>"
      ]
     },
     "metadata": {
      "needs_background": "light"
     },
     "output_type": "display_data"
    }
   ],
   "source": [
    "#lets evaluate the model performance \n",
    "from sklearn.metrics import confusion_matrix\n",
    "\n",
    "\n",
    "#lets print the confusion  matrix first\n",
    "plt.rcParams['figure.figsize'] = (10,10)\n",
    "cm = confusion_matrix(y_test , y_pred)\n",
    "sns.heatmap(cm ,annot = True, cmap ='Wistia')\n",
    "plt.title(\"confusion matrix for logisticregression\", fontsize = 15)\n",
    "plt.show()\n",
    "\n"
   ]
  },
  {
   "cell_type": "code",
   "execution_count": 24,
   "id": "d0584cff",
   "metadata": {},
   "outputs": [
    {
     "name": "stdout",
     "output_type": "stream",
     "text": [
      "              precision    recall  f1-score   support\n",
      "\n",
      "       apple       1.00      1.00      1.00        18\n",
      "      banana       1.00      1.00      1.00        18\n",
      "   blackgram       0.86      0.82      0.84        22\n",
      "    chickpea       1.00      1.00      1.00        23\n",
      "     coconut       1.00      1.00      1.00        15\n",
      "      coffee       1.00      1.00      1.00        17\n",
      "      cotton       0.89      1.00      0.94        16\n",
      "      grapes       1.00      1.00      1.00        18\n",
      "        jute       0.84      1.00      0.91        21\n",
      " kidneybeans       1.00      1.00      1.00        20\n",
      "      lentil       0.94      0.94      0.94        17\n",
      "       maize       0.94      0.89      0.91        18\n",
      "       mango       1.00      1.00      1.00        21\n",
      "   mothbeans       0.88      0.92      0.90        25\n",
      "    mungbean       1.00      1.00      1.00        17\n",
      "   muskmelon       1.00      1.00      1.00        23\n",
      "      orange       1.00      1.00      1.00        23\n",
      "      papaya       1.00      0.95      0.98        21\n",
      "  pigeonpeas       1.00      1.00      1.00        22\n",
      " pomegranate       1.00      1.00      1.00        23\n",
      "        rice       1.00      0.84      0.91        25\n",
      "  watermelon       1.00      1.00      1.00        17\n",
      "\n",
      "    accuracy                           0.97       440\n",
      "   macro avg       0.97      0.97      0.97       440\n",
      "weighted avg       0.97      0.97      0.97       440\n",
      "\n"
     ]
    }
   ],
   "source": [
    "#lets print the classification report also \n",
    "from sklearn.metrics import classification_report\n",
    "\n",
    "cr = classification_report(y_test, y_pred)\n",
    "print(cr)"
   ]
  },
  {
   "cell_type": "code",
   "execution_count": 25,
   "id": "d8a502c0",
   "metadata": {},
   "outputs": [
    {
     "name": "stdout",
     "output_type": "stream",
     "text": [
      "the suggested crop for given climate is : ['banana']\n"
     ]
    }
   ],
   "source": [
    "#lets do some real time prediction \n",
    "\n",
    "prediction = model.predict((np.array([[200,\n",
    "                                       150,\n",
    "                                       78,\n",
    "                                       50,\n",
    "                                       150,\n",
    "                                        9,\n",
    "                                       200]])))\n",
    "print(\"the suggested crop for given climate is :\", prediction)"
   ]
  },
  {
   "cell_type": "code",
   "execution_count": null,
   "id": "af1a6e94",
   "metadata": {},
   "outputs": [],
   "source": []
  },
  {
   "cell_type": "code",
   "execution_count": 22,
   "id": "a2e7ced0",
   "metadata": {},
   "outputs": [
    {
     "data": {
      "text/html": [
       "<div>\n",
       "<style scoped>\n",
       "    .dataframe tbody tr th:only-of-type {\n",
       "        vertical-align: middle;\n",
       "    }\n",
       "\n",
       "    .dataframe tbody tr th {\n",
       "        vertical-align: top;\n",
       "    }\n",
       "\n",
       "    .dataframe thead th {\n",
       "        text-align: right;\n",
       "    }\n",
       "</style>\n",
       "<table border=\"1\" class=\"dataframe\">\n",
       "  <thead>\n",
       "    <tr style=\"text-align: right;\">\n",
       "      <th></th>\n",
       "      <th>N</th>\n",
       "      <th>P</th>\n",
       "      <th>K</th>\n",
       "      <th>temperature</th>\n",
       "      <th>humidity</th>\n",
       "      <th>ph</th>\n",
       "      <th>rainfall</th>\n",
       "      <th>label</th>\n",
       "    </tr>\n",
       "  </thead>\n",
       "  <tbody>\n",
       "    <tr>\n",
       "      <th>2195</th>\n",
       "      <td>107</td>\n",
       "      <td>34</td>\n",
       "      <td>32</td>\n",
       "      <td>26.774637</td>\n",
       "      <td>66.413269</td>\n",
       "      <td>6.780064</td>\n",
       "      <td>177.774507</td>\n",
       "      <td>coffee</td>\n",
       "    </tr>\n",
       "    <tr>\n",
       "      <th>2196</th>\n",
       "      <td>99</td>\n",
       "      <td>15</td>\n",
       "      <td>27</td>\n",
       "      <td>27.417112</td>\n",
       "      <td>56.636362</td>\n",
       "      <td>6.086922</td>\n",
       "      <td>127.924610</td>\n",
       "      <td>coffee</td>\n",
       "    </tr>\n",
       "    <tr>\n",
       "      <th>2197</th>\n",
       "      <td>118</td>\n",
       "      <td>33</td>\n",
       "      <td>30</td>\n",
       "      <td>24.131797</td>\n",
       "      <td>67.225123</td>\n",
       "      <td>6.362608</td>\n",
       "      <td>173.322839</td>\n",
       "      <td>coffee</td>\n",
       "    </tr>\n",
       "    <tr>\n",
       "      <th>2198</th>\n",
       "      <td>117</td>\n",
       "      <td>32</td>\n",
       "      <td>34</td>\n",
       "      <td>26.272418</td>\n",
       "      <td>52.127394</td>\n",
       "      <td>6.758793</td>\n",
       "      <td>127.175293</td>\n",
       "      <td>coffee</td>\n",
       "    </tr>\n",
       "    <tr>\n",
       "      <th>2199</th>\n",
       "      <td>104</td>\n",
       "      <td>18</td>\n",
       "      <td>30</td>\n",
       "      <td>23.603016</td>\n",
       "      <td>60.396475</td>\n",
       "      <td>6.779833</td>\n",
       "      <td>140.937041</td>\n",
       "      <td>coffee</td>\n",
       "    </tr>\n",
       "  </tbody>\n",
       "</table>\n",
       "</div>"
      ],
      "text/plain": [
       "        N   P   K  temperature   humidity        ph    rainfall   label\n",
       "2195  107  34  32    26.774637  66.413269  6.780064  177.774507  coffee\n",
       "2196   99  15  27    27.417112  56.636362  6.086922  127.924610  coffee\n",
       "2197  118  33  30    24.131797  67.225123  6.362608  173.322839  coffee\n",
       "2198  117  32  34    26.272418  52.127394  6.758793  127.175293  coffee\n",
       "2199  104  18  30    23.603016  60.396475  6.779833  140.937041  coffee"
      ]
     },
     "execution_count": 22,
     "metadata": {},
     "output_type": "execute_result"
    }
   ],
   "source": [
    "data.tail()"
   ]
  },
  {
   "cell_type": "code",
   "execution_count": null,
   "id": "2525250d",
   "metadata": {},
   "outputs": [],
   "source": []
  }
 ],
 "metadata": {
  "kernelspec": {
   "display_name": "Python 3 (ipykernel)",
   "language": "python",
   "name": "python3"
  },
  "language_info": {
   "codemirror_mode": {
    "name": "ipython",
    "version": 3
   },
   "file_extension": ".py",
   "mimetype": "text/x-python",
   "name": "python",
   "nbconvert_exporter": "python",
   "pygments_lexer": "ipython3",
   "version": "3.9.6"
  }
 },
 "nbformat": 4,
 "nbformat_minor": 5
}
